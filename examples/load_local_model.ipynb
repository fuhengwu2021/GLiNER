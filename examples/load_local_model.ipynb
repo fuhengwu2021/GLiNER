{
 "cells": [
  {
   "cell_type": "code",
   "id": "f2d5e279-1cbc-4291-985f-9e23af3a6ecc",
   "metadata": {
    "ExecuteTime": {
     "end_time": "2024-10-05T03:58:51.789263Z",
     "start_time": "2024-10-05T03:58:50.733050Z"
    }
   },
   "source": [
    "import torch\n",
    "from gliner import GLiNER"
   ],
   "outputs": [],
   "execution_count": 1
  },
  {
   "cell_type": "code",
   "id": "3baf9b40-daba-4638-b4a2-cc82c8a9ed99",
   "metadata": {
    "scrolled": true,
    "ExecuteTime": {
     "end_time": "2024-10-05T04:04:21.256391Z",
     "start_time": "2024-10-05T04:04:19.437751Z"
    }
   },
   "source": [
    "# first load your model\n",
    "model = GLiNER.from_pretrained(\"gliner-community/gliner_medium-v2.5\")"
   ],
   "outputs": [
    {
     "data": {
      "text/plain": [
       "Fetching 10 files:   0%|          | 0/10 [00:00<?, ?it/s]"
      ],
      "application/vnd.jupyter.widget-view+json": {
       "version_major": 2,
       "version_minor": 0,
       "model_id": "134468aeb13542579de2a9ba3a94dc90"
      }
     },
     "metadata": {},
     "output_type": "display_data"
    }
   ],
   "execution_count": 12
  },
  {
   "cell_type": "markdown",
   "id": "5351bc8d-1182-4398-8be7-de61e6b24936",
   "metadata": {},
   "source": [
    "## Option 1"
   ]
  },
  {
   "cell_type": "code",
   "id": "c25fbf7b-b10c-4808-995e-2431f6c0356f",
   "metadata": {
    "ExecuteTime": {
     "end_time": "2024-10-05T04:04:58.438886Z",
     "start_time": "2024-10-05T04:04:51.989764Z"
    }
   },
   "source": [
    "# save\n",
    "model.save_pretrained(\"gliner_Med\")"
   ],
   "outputs": [],
   "execution_count": 14
  },
  {
   "cell_type": "code",
   "id": "f46d16c1-ab18-4300-b21f-e78c1da81df3",
   "metadata": {
    "scrolled": true,
    "ExecuteTime": {
     "end_time": "2024-10-05T04:05:03.012194Z",
     "start_time": "2024-10-05T04:05:01.745919Z"
    }
   },
   "source": [
    "# load\n",
    "loaded_model = GLiNER.from_pretrained(\"gliner_Med\", load_tokenizer = True, local_files_only=True)"
   ],
   "outputs": [
    {
     "name": "stderr",
     "output_type": "stream",
     "text": [
      "config.json not found in /media/wukong/dataext4/GLiNER/examples/gliner_Med\n"
     ]
    }
   ],
   "execution_count": 15
  },
  {
   "cell_type": "markdown",
   "id": "4041910a-ee0e-470d-b718-bc151a2666eb",
   "metadata": {},
   "source": [
    "## Option 2"
   ]
  },
  {
   "cell_type": "code",
   "id": "fe7e3b71-1d15-4739-9b41-fcc279046950",
   "metadata": {
    "ExecuteTime": {
     "end_time": "2024-10-05T04:05:07.574002Z",
     "start_time": "2024-10-05T04:05:07.567452Z"
    }
   },
   "source": [
    "def save_model(current_model, path):\n",
    "    config = current_model.config\n",
    "    dict_save = {\"model_weights\": current_model.state_dict(), \"config\": config}\n",
    "    torch.save(dict_save, path)\n",
    "\n",
    "\n",
    "def load_model(path, model_name=None):\n",
    "    dict_load = torch.load(path, map_location=torch.device('cpu'))\n",
    "    config = dict_load[\"config\"]\n",
    "    print(f\"'{config.model_name}' should be available for local processing\")\n",
    "    if model_name is not None:\n",
    "        config.model_name = model_name\n",
    "    loaded_model = GLiNER(config)\n",
    "    loaded_model.load_state_dict(dict_load[\"model_weights\"])\n",
    "    return loaded_model"
   ],
   "outputs": [],
   "execution_count": 16
  },
  {
   "cell_type": "code",
   "id": "e513be85-3178-449c-adec-1a609e38b580",
   "metadata": {
    "ExecuteTime": {
     "end_time": "2024-10-05T04:05:16.742529Z",
     "start_time": "2024-10-05T04:05:10.403788Z"
    }
   },
   "source": [
    "# save the model weight\n",
    "save_model(model, \"model_weight.pt\")"
   ],
   "outputs": [],
   "execution_count": 17
  },
  {
   "cell_type": "code",
   "id": "628eb872-ff3d-4c59-ac20-9b229797090f",
   "metadata": {
    "scrolled": true,
    "ExecuteTime": {
     "end_time": "2024-10-05T04:05:19.049631Z",
     "start_time": "2024-10-05T04:05:17.785158Z"
    }
   },
   "source": [
    "# load model weight\n",
    "loaded_model = load_model(\"model_weight.pt\")\n",
    "print(\"success !!\")"
   ],
   "outputs": [
    {
     "name": "stderr",
     "output_type": "stream",
     "text": [
      "/tmp/ipykernel_289509/2930957027.py:8: FutureWarning: You are using `torch.load` with `weights_only=False` (the current default value), which uses the default pickle module implicitly. It is possible to construct malicious pickle data which will execute arbitrary code during unpickling (See https://github.com/pytorch/pytorch/blob/main/SECURITY.md#untrusted-models for more details). In a future release, the default value for `weights_only` will be flipped to `True`. This limits the functions that could be executed during unpickling. Arbitrary objects will no longer be allowed to be loaded via this mode unless they are explicitly allowlisted by the user via `torch.serialization.add_safe_globals`. We recommend you start setting `weights_only=True` for any use case where you don't have full control of the loaded file. Please open an issue on GitHub for any issues related to this experimental feature.\n",
      "  dict_load = torch.load(path, map_location=torch.device('cpu'))\n"
     ]
    },
    {
     "name": "stdout",
     "output_type": "stream",
     "text": [
      "'microsoft/deberta-v3-base' should be available for local processing\n"
     ]
    },
    {
     "ename": "RuntimeError",
     "evalue": "Error(s) in loading state_dict for GLiNER:\n\tsize mismatch for model.token_rep_layer.bert_layer.model.embeddings.word_embeddings.weight: copying a param with shape torch.Size([128003, 768]) from checkpoint, the shape in current model is torch.Size([128100, 768]).",
     "output_type": "error",
     "traceback": [
      "\u001B[0;31m---------------------------------------------------------------------------\u001B[0m",
      "\u001B[0;31mRuntimeError\u001B[0m                              Traceback (most recent call last)",
      "Cell \u001B[0;32mIn[18], line 2\u001B[0m\n\u001B[1;32m      1\u001B[0m \u001B[38;5;66;03m# load model weight\u001B[39;00m\n\u001B[0;32m----> 2\u001B[0m loaded_model \u001B[38;5;241m=\u001B[39m \u001B[43mload_model\u001B[49m\u001B[43m(\u001B[49m\u001B[38;5;124;43m\"\u001B[39;49m\u001B[38;5;124;43mmodel_weight.pt\u001B[39;49m\u001B[38;5;124;43m\"\u001B[39;49m\u001B[43m)\u001B[49m\n\u001B[1;32m      3\u001B[0m \u001B[38;5;28mprint\u001B[39m(\u001B[38;5;124m\"\u001B[39m\u001B[38;5;124msuccess !!\u001B[39m\u001B[38;5;124m\"\u001B[39m)\n",
      "Cell \u001B[0;32mIn[16], line 14\u001B[0m, in \u001B[0;36mload_model\u001B[0;34m(path, model_name)\u001B[0m\n\u001B[1;32m     12\u001B[0m     config\u001B[38;5;241m.\u001B[39mmodel_name \u001B[38;5;241m=\u001B[39m model_name\n\u001B[1;32m     13\u001B[0m loaded_model \u001B[38;5;241m=\u001B[39m GLiNER(config)\n\u001B[0;32m---> 14\u001B[0m \u001B[43mloaded_model\u001B[49m\u001B[38;5;241;43m.\u001B[39;49m\u001B[43mload_state_dict\u001B[49m\u001B[43m(\u001B[49m\u001B[43mdict_load\u001B[49m\u001B[43m[\u001B[49m\u001B[38;5;124;43m\"\u001B[39;49m\u001B[38;5;124;43mmodel_weights\u001B[39;49m\u001B[38;5;124;43m\"\u001B[39;49m\u001B[43m]\u001B[49m\u001B[43m)\u001B[49m\n\u001B[1;32m     15\u001B[0m \u001B[38;5;28;01mreturn\u001B[39;00m loaded_model\n",
      "File \u001B[0;32m/media/wukong/dataext4/kazam/x11-venv/lib/python3.8/site-packages/torch/nn/modules/module.py:2215\u001B[0m, in \u001B[0;36mModule.load_state_dict\u001B[0;34m(self, state_dict, strict, assign)\u001B[0m\n\u001B[1;32m   2210\u001B[0m         error_msgs\u001B[38;5;241m.\u001B[39minsert(\n\u001B[1;32m   2211\u001B[0m             \u001B[38;5;241m0\u001B[39m, \u001B[38;5;124m'\u001B[39m\u001B[38;5;124mMissing key(s) in state_dict: \u001B[39m\u001B[38;5;132;01m{}\u001B[39;00m\u001B[38;5;124m. \u001B[39m\u001B[38;5;124m'\u001B[39m\u001B[38;5;241m.\u001B[39mformat(\n\u001B[1;32m   2212\u001B[0m                 \u001B[38;5;124m'\u001B[39m\u001B[38;5;124m, \u001B[39m\u001B[38;5;124m'\u001B[39m\u001B[38;5;241m.\u001B[39mjoin(\u001B[38;5;124mf\u001B[39m\u001B[38;5;124m'\u001B[39m\u001B[38;5;124m\"\u001B[39m\u001B[38;5;132;01m{\u001B[39;00mk\u001B[38;5;132;01m}\u001B[39;00m\u001B[38;5;124m\"\u001B[39m\u001B[38;5;124m'\u001B[39m \u001B[38;5;28;01mfor\u001B[39;00m k \u001B[38;5;129;01min\u001B[39;00m missing_keys)))\n\u001B[1;32m   2214\u001B[0m \u001B[38;5;28;01mif\u001B[39;00m \u001B[38;5;28mlen\u001B[39m(error_msgs) \u001B[38;5;241m>\u001B[39m \u001B[38;5;241m0\u001B[39m:\n\u001B[0;32m-> 2215\u001B[0m     \u001B[38;5;28;01mraise\u001B[39;00m \u001B[38;5;167;01mRuntimeError\u001B[39;00m(\u001B[38;5;124m'\u001B[39m\u001B[38;5;124mError(s) in loading state_dict for \u001B[39m\u001B[38;5;132;01m{}\u001B[39;00m\u001B[38;5;124m:\u001B[39m\u001B[38;5;130;01m\\n\u001B[39;00m\u001B[38;5;130;01m\\t\u001B[39;00m\u001B[38;5;132;01m{}\u001B[39;00m\u001B[38;5;124m'\u001B[39m\u001B[38;5;241m.\u001B[39mformat(\n\u001B[1;32m   2216\u001B[0m                        \u001B[38;5;28mself\u001B[39m\u001B[38;5;241m.\u001B[39m\u001B[38;5;18m__class__\u001B[39m\u001B[38;5;241m.\u001B[39m\u001B[38;5;18m__name__\u001B[39m, \u001B[38;5;124m\"\u001B[39m\u001B[38;5;130;01m\\n\u001B[39;00m\u001B[38;5;130;01m\\t\u001B[39;00m\u001B[38;5;124m\"\u001B[39m\u001B[38;5;241m.\u001B[39mjoin(error_msgs)))\n\u001B[1;32m   2217\u001B[0m \u001B[38;5;28;01mreturn\u001B[39;00m _IncompatibleKeys(missing_keys, unexpected_keys)\n",
      "\u001B[0;31mRuntimeError\u001B[0m: Error(s) in loading state_dict for GLiNER:\n\tsize mismatch for model.token_rep_layer.bert_layer.model.embeddings.word_embeddings.weight: copying a param with shape torch.Size([128003, 768]) from checkpoint, the shape in current model is torch.Size([128100, 768])."
     ]
    }
   ],
   "execution_count": 18
  },
  {
   "cell_type": "markdown",
   "id": "e057d7ec-1756-4c97-a1d9-e5fdcb60e20a",
   "metadata": {},
   "source": [
    "## Testing"
   ]
  },
  {
   "cell_type": "code",
   "id": "2827009e-bdb8-44b2-92b5-e6bdcc17f08e",
   "metadata": {
    "ExecuteTime": {
     "end_time": "2024-10-05T04:05:23.610938Z",
     "start_time": "2024-10-05T04:05:23.247904Z"
    }
   },
   "source": [
    "text = \"\"\"\n",
    "Libretto by Marius Petipa, based on the 1822 novella ``Trilby, ou Le Lutin d'Argail`` by Charles Nodier, first presented by the Ballet of the Moscow Imperial Bolshoi Theatre on January 25/February 6 (Julian/Gregorian calendar dates), 1870, in Moscow with Polina Karpakova as Trilby and Ludiia Geiten as Miranda and restaged by Petipa for the Imperial Ballet at the Imperial Bolshoi Kamenny Theatre on January 17–29, 1871 in St. Petersburg with Adèle Grantzow as Trilby and Lev Ivanov as Count Leopold.\n",
    "\"\"\"\n",
    "\n",
    "labels = [\"person\", \"book\", \"location\", \"date\", \"actor\", \"character\"]\n",
    "\n",
    "entities = loaded_model.predict_entities(text, labels, threshold=0.4)\n",
    "\n",
    "for entity in entities:\n",
    "    print(entity[\"text\"], \"=>\", entity[\"label\"])"
   ],
   "outputs": [
    {
     "name": "stderr",
     "output_type": "stream",
     "text": [
      "Asking to truncate to max_length but no maximum length is provided and the model has no predefined maximum length. Default to no truncation.\n"
     ]
    },
    {
     "name": "stdout",
     "output_type": "stream",
     "text": [
      "Marius Petipa => person\n",
      "1822 => date\n",
      "Trilby, ou Le Lutin d'Argail => book\n",
      "Charles Nodier => person\n",
      "Moscow => location\n",
      "January 25/February 6 => date\n",
      "1870 => date\n",
      "Moscow => location\n",
      "Polina Karpakova => actor\n",
      "Trilby => character\n",
      "Ludiia Geiten => actor\n",
      "Miranda => character\n",
      "Petipa => person\n",
      "Imperial Bolshoi Kamenny Theatre => location\n",
      "January 17–29, 1871 => date\n",
      "St. Petersburg => location\n",
      "Adèle Grantzow => actor\n",
      "Trilby => character\n",
      "Lev Ivanov => actor\n",
      "Count Leopold => character\n"
     ]
    }
   ],
   "execution_count": 19
  },
  {
   "cell_type": "code",
   "execution_count": null,
   "id": "839336f8-e5a0-471d-ace9-ef7f7e1c5c97",
   "metadata": {},
   "outputs": [],
   "source": []
  }
 ],
 "metadata": {
  "kernelspec": {
   "display_name": "Python 3 (ipykernel)",
   "language": "python",
   "name": "python3"
  },
  "language_info": {
   "codemirror_mode": {
    "name": "ipython",
    "version": 3
   },
   "file_extension": ".py",
   "mimetype": "text/x-python",
   "name": "python",
   "nbconvert_exporter": "python",
   "pygments_lexer": "ipython3",
   "version": "3.8.10"
  }
 },
 "nbformat": 4,
 "nbformat_minor": 5
}
